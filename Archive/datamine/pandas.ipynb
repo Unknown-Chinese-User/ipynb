{
 "cells": [
  {
   "cell_type": "code",
   "execution_count": 1,
   "id": "6c9cc4ec",
   "metadata": {},
   "outputs": [],
   "source": [
    "import matplotlib.pyplot as plt\n",
    "import numpy as np\n",
    "import pandas as pd\n",
    "import IPython.display\n",
    "def split_test(Df):\n",
    "    df=Df.copy()\n",
    "    df[\"tmp\"]=np.random.random(df.shape[0])\n",
    "    test=df[df.tmp<0.1].iloc[:, 0:-1]\n",
    "    train=df[df.tmp>=0.1].iloc[:, 0:-1]\n",
    "    return (train,test)"
   ]
  },
  {
   "cell_type": "code",
   "execution_count": 2,
   "id": "28b02d33",
   "metadata": {},
   "outputs": [
    {
     "name": "stdout",
     "output_type": "stream",
     "text": [
      "Wall time: 4.46 s\n"
     ]
    }
   ],
   "source": [
    "%%time\n",
    "rating_file=\"./ml-1m/ratings.dat\"\n",
    "ratings=pd.read_csv(rating_file,sep=\"::\",names=['userId', 'movieId', 'rating', 'timestamp'],engine='python')\n",
    "rat=ratings.copy()#backup"
   ]
  },
  {
   "cell_type": "code",
   "execution_count": 3,
   "id": "7cfb0231",
   "metadata": {},
   "outputs": [],
   "source": [
    "train,test=split_test(rat)\n",
    "user_count = rat.userId.value_counts(sort=False).sort_index()\n",
    "movie_count = rat.movieId.value_counts(sort=False).sort_index()\n",
    "movie_index=movie_count.index\n",
    "movie_map=dict((movie_index[i],i) for i in range(len(movie_index)))\n",
    "\n",
    "user_num=len(user_count)\n",
    "movie_num=len(movie_count)"
   ]
  },
  {
   "cell_type": "code",
   "execution_count": null,
   "id": "686a5e03",
   "metadata": {},
   "outputs": [],
   "source": [
    "        "
   ]
  },
  {
   "cell_type": "code",
   "execution_count": 4,
   "id": "f11c6a85",
   "metadata": {},
   "outputs": [
    {
     "name": "stdout",
     "output_type": "stream",
     "text": [
      "Wall time: 52.8 s\n"
     ]
    }
   ],
   "source": [
    "%%time\n",
    "rating_mat=np.zeros([user_num, movie_num],dtype=np.double)#评分矩阵\n",
    "for _, row in train.iterrows():\n",
    "    rating_mat[row.userId-1,movie_map[row.movieId]]=row.rating\n",
    "    \n",
    "test_rating_mat=np.zeros([user_num, movie_num],dtype=np.double)#测试评分矩阵\n",
    "for _, row in test.iterrows():\n",
    "    test_rating_mat[row.userId-1,movie_map[row.movieId]]=row.rating"
   ]
  },
  {
   "cell_type": "code",
   "execution_count": 5,
   "id": "635bc302",
   "metadata": {},
   "outputs": [],
   "source": [
    "like=rating_mat>3.0\n",
    "dislike=(rating_mat<=3.0)*(rating_mat>0)"
   ]
  },
  {
   "cell_type": "code",
   "execution_count": 6,
   "id": "87a17140",
   "metadata": {},
   "outputs": [
    {
     "name": "stdout",
     "output_type": "stream",
     "text": [
      "Wall time: 2.44 s\n"
     ]
    }
   ],
   "source": [
    "%%time\n",
    "tmp = like / np.array(user_count).reshape([user_num,1])\n",
    "tmp = np.dot(like.transpose(), tmp)\n",
    "W=tmp/ np.array(movie_count).reshape([1,movie_num])\n",
    "\n",
    "f = np.dot(W, rating_mat.T).T"
   ]
  },
  {
   "cell_type": "code",
   "execution_count": 7,
   "id": "6ce87a02",
   "metadata": {},
   "outputs": [],
   "source": [
    "test_like=test_rating_mat>3.0\n",
    "test_dislike=(test_rating_mat<=3.0)*(test_rating_mat>0)\n",
    "test_full=test_like+test_dislike#是测试集全集\n",
    "test_pred=f*test_full\n",
    "\n",
    "T=np.sum(test_like)\n",
    "F=np.sum(test_dislike)"
   ]
  },
  {
   "cell_type": "code",
   "execution_count": 108,
   "id": "0bf42189",
   "metadata": {},
   "outputs": [
    {
     "name": "stdout",
     "output_type": "stream",
     "text": [
      "Wall time: 42.2 s\n"
     ]
    },
    {
     "data": {
      "text/plain": [
       "[<matplotlib.lines.Line2D at 0x224aef69af0>]"
      ]
     },
     "execution_count": 108,
     "metadata": {},
     "output_type": "execute_result"
    },
    {
     "data": {
      "image/png": "[encoded data removed]",
      "text/plain": [
       "<Figure size 432x288 with 1 Axes>"
      ]
     },
     "metadata": {
      "needs_background": "light"
     },
     "output_type": "display_data"
    }
   ],
   "source": [
    "%%time\n",
    "plt.figure(0)\n",
    "plt.clf()\n",
    "TPR_list=[]\n",
    "FPR_list=[]\n",
    "\n",
    "for threshold in np.arange(0,1,0.01):\n",
    "    test_user_len=np.sum(test_full,axis=1)#每个人在测试集中的观影数量\n",
    "    test_sort = np.argsort(test_pred, axis=1)[:,::-1]#给每个人的推荐电影的序号排序\n",
    "    test_user_len_threshold=np.array(test_user_len*threshold,dtype=np.int64)\n",
    "    TP,TN=0,0\n",
    "    for i in range(user_num):\n",
    "        test_pred_like=test_sort[i][:test_user_len_threshold[i]]\n",
    "        TP+=np.sum(test_like[i][test_pred_like])\n",
    "        test_pred_dislike=test_sort[i][test_user_len_threshold[i]:]\n",
    "        TN+=np.sum(test_dislike[i][test_pred_dislike])\n",
    "\n",
    "    TPR=TP/T\n",
    "    FPR=1-TN/F\n",
    "    TPR_list.append(TPR)\n",
    "    FPR_list.append(FPR)\n",
    "\n",
    "plt.plot(FPR_list,TPR_list)"
   ]
  },
  {
   "cell_type": "code",
   "execution_count": 111,
   "id": "6d51acad",
   "metadata": {},
   "outputs": [
    {
     "name": "stdout",
     "output_type": "stream",
     "text": [
      "0.5736915119085545\n"
     ]
    }
   ],
   "source": [
    "auc=0\n",
    "for i in range(len(FPR_list)-1):\n",
    "    auc+=(FPR_list[i+1]-FPR_list[i])*(TPR_list[i+1]+TPR_list[i])/2\n",
    "print(auc)"
   ]
  },
  {
   "cell_type": "code",
   "execution_count": 8,
   "id": "96613013",
   "metadata": {},
   "outputs": [
    {
     "name": "stdout",
     "output_type": "stream",
     "text": [
      "Wall time: 10 s\n"
     ]
    },
    {
     "data": {
      "text/plain": [
       "[<matplotlib.lines.Line2D at 0x14ae0c0c250>]"
      ]
     },
     "execution_count": 8,
     "metadata": {},
     "output_type": "execute_result"
    },
    {
     "data": {
      "image/png": "[encoded data removed]",
      "text/plain": [
       "<Figure size 432x288 with 1 Axes>"
      ]
     },
     "metadata": {
      "needs_background": "light"
     },
     "output_type": "display_data"
    }
   ],
   "source": [
    "%%time\n",
    "plt.figure(0)\n",
    "plt.clf()\n",
    "TPR_list=[]\n",
    "FPR_list=[]\n",
    "\n",
    "for threshold in np.arange(0,1,0.01):\n",
    "    test_pred_like=test_pred>threshold\n",
    "    test_pred_dislike=(test_pred<=threshold)*test_full\n",
    "\n",
    "    TP=np.sum(test_pred_like*test_like)\n",
    "    TN=np.sum(test_pred_dislike*test_dislike)\n",
    "    TPR=TP/T\n",
    "    FPR=1-TN/F\n",
    "    TPR_list.append(TPR)\n",
    "    FPR_list.append(FPR)\n",
    "\n",
    "plt.plot(FPR_list,TPR_list)"
   ]
  },
  {
   "cell_type": "code",
   "execution_count": 9,
   "id": "d4c1f4d1",
   "metadata": {},
   "outputs": [
    {
     "name": "stdout",
     "output_type": "stream",
     "text": [
      "0.6519611994730076\n"
     ]
    }
   ],
   "source": [
    "auc=0\n",
    "for i in range(len(FPR_list)-1):\n",
    "    auc+=(FPR_list[i+1]-FPR_list[i])*(TPR_list[i+1]+TPR_list[i])/2\n",
    "print(abs(auc))"
   ]
  }
 ],
 "metadata": {
  "kernelspec": {
   "display_name": "Python 3 (ipykernel)",
   "language": "python",
   "name": "python3"
  },
  "language_info": {
   "codemirror_mode": {
    "name": "ipython",
    "version": 3
   },
   "file_extension": ".py",
   "mimetype": "text/x-python",
   "name": "python",
   "nbconvert_exporter": "python",
   "pygments_lexer": "ipython3",
   "version": "3.9.8"
  }
 },
 "nbformat": 4,
 "nbformat_minor": 5
}
